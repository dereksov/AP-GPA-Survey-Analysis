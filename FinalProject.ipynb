{
 "cells": [
  {
   "cell_type": "markdown",
   "metadata": {},
   "source": [
    "# Does Taking Advanced Classes in High School Influence A Student's College Performance?\n",
    "Authors: Derek So, Kaitlyn Huynh, Tyson Tran, Michael Nicodemus"
   ]
  },
  {
   "cell_type": "markdown",
   "metadata": {},
   "source": [
    "# Question\n",
    "\n",
    "Is there a correlation between having taken advanced courses (AP and IB) during high school and grade point average during college in the United States?\n",
    "\n",
    "Hypothesis: The more AP or IB courses a student has taken, the higher their college grade point average will be.\n"
   ]
  },
  {
   "cell_type": "markdown",
   "metadata": {},
   "source": [
    "# Data\n",
    "\n",
    "Include the code to read your dataset in below and briefly explain what information is included in your dataset that you'll use for analysis."
   ]
  },
  {
   "cell_type": "code",
   "execution_count": 1,
   "metadata": {},
   "outputs": [],
   "source": [
    "import numpy as np\n",
    "import pandas as pd\n",
    "from matplotlib import pyplot as plt\n",
    "from sklearn.linear_model import LinearRegression\n",
    "\n",
    "import seaborn as sns; sns.set(color_codes=True)\n",
    "import patsy\n",
    "import statsmodels.api as sm\n",
    "import scipy.stats as stats"
   ]
  },
  {
   "cell_type": "code",
   "execution_count": 2,
   "metadata": {},
   "outputs": [],
   "source": [
    "df = pd.read_csv('cogs9_survey.csv')"
   ]
  },
  {
   "cell_type": "markdown",
   "metadata": {},
   "source": [
    "Our data comes from a survey we put out, which garnered 141 responses. 2 responses were removed due to coming from invalid sources, the former who reported that they have yet to attend college and the latter who did not report their college. The data in the column \"What university/college are you attending\" was cleaned prior to loading in the csv as it was simpler to modify the text that way. Below is the first response."
   ]
  },
  {
   "cell_type": "code",
   "execution_count": 3,
   "metadata": {},
   "outputs": [
    {
     "data": {
      "text/html": [
       "<div>\n",
       "<style scoped>\n",
       "    .dataframe tbody tr th:only-of-type {\n",
       "        vertical-align: middle;\n",
       "    }\n",
       "\n",
       "    .dataframe tbody tr th {\n",
       "        vertical-align: top;\n",
       "    }\n",
       "\n",
       "    .dataframe thead th {\n",
       "        text-align: right;\n",
       "    }\n",
       "</style>\n",
       "<table border=\"1\" class=\"dataframe\">\n",
       "  <thead>\n",
       "    <tr style=\"text-align: right;\">\n",
       "      <th></th>\n",
       "      <th>Timestamp</th>\n",
       "      <th>Did you take AP or IB classes in high school?</th>\n",
       "      <th>Which did you take?</th>\n",
       "      <th>Number of AP or IB classes taken</th>\n",
       "      <th>GPA in High School (Non-Weighted)</th>\n",
       "      <th>What university/college are you attending?</th>\n",
       "      <th>What year are you?</th>\n",
       "      <th>GPA in College</th>\n",
       "    </tr>\n",
       "  </thead>\n",
       "  <tbody>\n",
       "    <tr>\n",
       "      <th>0</th>\n",
       "      <td>11/7/2019 16:33:04</td>\n",
       "      <td>Yes</td>\n",
       "      <td>AP</td>\n",
       "      <td>9</td>\n",
       "      <td>3.84</td>\n",
       "      <td>UCSD</td>\n",
       "      <td>Year 3 (Junior)</td>\n",
       "      <td>3.53</td>\n",
       "    </tr>\n",
       "  </tbody>\n",
       "</table>\n",
       "</div>"
      ],
      "text/plain": [
       "            Timestamp Did you take AP or IB classes in high school?  \\\n",
       "0  11/7/2019 16:33:04                                           Yes   \n",
       "\n",
       "  Which did you take?  Number of AP or IB classes taken  \\\n",
       "0                  AP                                 9   \n",
       "\n",
       "   GPA in High School (Non-Weighted)  \\\n",
       "0                               3.84   \n",
       "\n",
       "  What university/college are you attending? What year are you?  \\\n",
       "0                                       UCSD    Year 3 (Junior)   \n",
       "\n",
       "   GPA in College  \n",
       "0            3.53  "
      ]
     },
     "execution_count": 3,
     "metadata": {},
     "output_type": "execute_result"
    }
   ],
   "source": [
    "df.iloc[0:1]"
   ]
  },
  {
   "cell_type": "markdown",
   "metadata": {},
   "source": [
    "Timestamp was the moment the survey was taken. Such data is irrelevant to our project and will be removed.\n",
    "\n",
    "Did you take AP or IB classes in high school?: This question is largely redundant, as the two next questions provide data that answers this question. However, besides the standard Yes/No answer data to this question, there was a third option of APs/IBs were not available, allowing us to account for those who could not take those classes not out of choice, but because it was not possible.\n",
    "\n",
    "Which did you take?: The options here were 'AP', 'IB', and 'Both', and 'Neither.' With this, we can compare those who took APs and those who tooks IBs.\n",
    "\n",
    "Number of AP or IB classes taken: The data provided by this question is discrete and should largely be normally distributed, though some extreme outliers exist on the upper end.\n",
    "\n",
    "GPA in High School (Non-Weighted): This data ranges from 0 to 4 and will be compared to College GPA. \n",
    "\n",
    "What university/college are you attending?: Given enough data for a school to be statistically valid, we can compare the gpa correlations of high school to different colleges. All data here has been simplified to acronyms or a word, to which the key will be provided later as necessary.\n",
    "\n",
    "What year are you?: With this variable, we may explore if the person's current year in college is a confounding variable in their GPA, as the GPAs we are comparing are not equivalent—high school gpas have been 'complete', while those in freshman year taking this survey may not even have a college GPA yet. We gave 5 options, 1 through 4 then 5+ for years in college so far.\n",
    "\n",
    "GPA in College: This data ranges from 0 to 4 will be compared to GPA in High School."
   ]
  },
  {
   "cell_type": "markdown",
   "metadata": {},
   "source": [
    "# Data Wrangling\n",
    "\n",
    "Include text and code needed to wrangle your data into a tidy data format. If your data are already in a usable format, explain what checks you did on the data (and include the code) to ensure that the data were tidy."
   ]
  },
  {
   "cell_type": "markdown",
   "metadata": {},
   "source": [
    "First, we may rename the variables to something simpler. We also remove the extraneous timestamp variable which was automatically logged by the google form as we have no use for it."
   ]
  },
  {
   "cell_type": "code",
   "execution_count": 4,
   "metadata": {},
   "outputs": [
    {
     "data": {
      "text/html": [
       "<div>\n",
       "<style scoped>\n",
       "    .dataframe tbody tr th:only-of-type {\n",
       "        vertical-align: middle;\n",
       "    }\n",
       "\n",
       "    .dataframe tbody tr th {\n",
       "        vertical-align: top;\n",
       "    }\n",
       "\n",
       "    .dataframe thead th {\n",
       "        text-align: right;\n",
       "    }\n",
       "</style>\n",
       "<table border=\"1\" class=\"dataframe\">\n",
       "  <thead>\n",
       "    <tr style=\"text-align: right;\">\n",
       "      <th></th>\n",
       "      <th>TAKE</th>\n",
       "      <th>WHICH</th>\n",
       "      <th>AMOUNT</th>\n",
       "      <th>HSGPA</th>\n",
       "      <th>UNI</th>\n",
       "      <th>YEAR</th>\n",
       "      <th>UNIGPA</th>\n",
       "    </tr>\n",
       "  </thead>\n",
       "  <tbody>\n",
       "    <tr>\n",
       "      <th>0</th>\n",
       "      <td>Yes</td>\n",
       "      <td>AP</td>\n",
       "      <td>9</td>\n",
       "      <td>3.84</td>\n",
       "      <td>UCSD</td>\n",
       "      <td>Year 3 (Junior)</td>\n",
       "      <td>3.53</td>\n",
       "    </tr>\n",
       "  </tbody>\n",
       "</table>\n",
       "</div>"
      ],
      "text/plain": [
       "  TAKE WHICH  AMOUNT  HSGPA   UNI             YEAR  UNIGPA\n",
       "0  Yes    AP       9   3.84  UCSD  Year 3 (Junior)    3.53"
      ]
     },
     "execution_count": 4,
     "metadata": {},
     "output_type": "execute_result"
    }
   ],
   "source": [
    "#rename variables\n",
    "df.rename(index=str,columns={\"Did you take AP or IB classes in high school?\":\"TAKE\",\n",
    "                             \"Which did you take?\":\"WHICH\",\n",
    "                             \"Number of AP or IB classes taken\":\"AMOUNT\",\n",
    "                             \"GPA in High School (Non-Weighted)\":\"HSGPA\",\n",
    "                             \"What university/college are you attending?\":\"UNI\",\n",
    "                             \"What year are you?\":\"YEAR\",\n",
    "                             \"GPA in College\":\"UNIGPA\"\n",
    "                            },\n",
    "          inplace = True)\n",
    "\n",
    "#remove timestamp\n",
    "df = df.filter([\"TAKE\",\"WHICH\",\"AMOUNT\",\"HSGPA\",\"UNI\",\"YEAR\",\"UNIGPA\"])\n",
    "\n",
    "#display\n",
    "df.iloc[0:1]"
   ]
  },
  {
   "cell_type": "markdown",
   "metadata": {},
   "source": [
    "Next, we shall list what values are in each column, line by line."
   ]
  },
  {
   "cell_type": "code",
   "execution_count": 5,
   "metadata": {},
   "outputs": [
    {
     "name": "stdout",
     "output_type": "stream",
     "text": [
      "TAKE = ['Yes' 'No' 'AP/IB was not available']\n",
      "WHICH = ['AP' 'None' 'IB' 'Both']\n",
      "AMOUNT = [ 9  5  7  6  4  2 12 10  1  8 13 11  0  3 14 21 17 16]\n",
      "HSGPA = [3.84 3.9  3.87 3.83 3.5  3.64 3.7  2.7  4.5  4.25 4.   4.33 3.6  2.9\n",
      " 3.4  3.   3.8  3.2  3.85 3.3  3.95 2.6  1.9  3.98 3.33 3.89 3.86 3.73\n",
      " 3.88 2.   3.97 3.65 3.1  3.92 3.78 2.5  3.94 2.8  3.45 3.68]\n",
      "UNI = ['UCSD' 'UC Berkeley' 'PCC' 'SDMC' 'UCR' 'UTexas (Austin)' 'UCSC ' 'CSUDH'\n",
      " 'SWC' 'Holy Cross' 'SDSU' 'UCLA' 'UCSB' 'SFSU' 'Grossmont' 'UC Berkeley '\n",
      " 'UCI' 'Crafton Hills' 'APU' 'CSULB' 'HWC' 'CGCC' 'TESC' 'CSUF' 'IVC'\n",
      " 'WPI' 'GWC' 'CCSF' 'Pierce ' 'Cypress' 'OCC']\n",
      "YEAR = ['Year 3 (Junior)' 'Year 2 (Sophomore)' 'Year 4 (Senior)'\n",
      " 'Year 1 (Freshman)' 'Year 5 or more']\n",
      "UNIGPA = [3.53  3.87  3.48  3.01  3.    3.95  3.2   3.4   3.7   3.6   4.    2.9\n",
      " 3.35  2.3   3.1   2.5   3.55  2.    0.    3.34  3.75  2.8   3.559 1.8\n",
      " 3.895 3.26  1.93  3.5   3.9   3.61  3.8   3.58  3.56  3.44  3.042 2.6\n",
      " 2.79  2.063 3.86  3.67  3.57  3.91  3.28  3.62  3.46  3.65  3.662 2.221\n",
      " 2.7   1.88  2.67  2.27  3.33  3.3   3.956 3.925 3.84  3.82  3.93  3.85\n",
      " 3.96  3.89  2.52  2.4   1.3   3.07  3.42 ]\n"
     ]
    }
   ],
   "source": [
    "print(\"TAKE =\", df.TAKE.unique())\n",
    "print(\"WHICH =\", df.WHICH.unique())\n",
    "print(\"AMOUNT =\", df.AMOUNT.unique())\n",
    "print(\"HSGPA =\", df.HSGPA.unique())\n",
    "print(\"UNI =\", df.UNI.unique())\n",
    "print(\"YEAR =\", df.YEAR.unique())\n",
    "print(\"UNIGPA =\", df.UNIGPA.unique())"
   ]
  },
  {
   "cell_type": "markdown",
   "metadata": {},
   "source": [
    "We shall shorten 'AP/IB was not available' to 'Neither Available', and since reported HSGPA values are nonweighted, we will fix misreported values of over 4 by capping the values to 4. We will also change all the values in YEAR to 1 through 5, as we had the responses formatted that way previously in a multiple choice in order to prevent confusion. Also, we remove one person who logged the UNIGPA of 0, as that was likely an input error but would skew the data."
   ]
  },
  {
   "cell_type": "code",
   "execution_count": 6,
   "metadata": {},
   "outputs": [
    {
     "name": "stderr",
     "output_type": "stream",
     "text": [
      "C:\\Users\\derek\\Anaconda3\\lib\\site-packages\\ipykernel_launcher.py:6: FutureWarning: clip_upper(threshold) is deprecated, use clip(upper=threshold) instead\n",
      "  \n"
     ]
    }
   ],
   "source": [
    "#replace specific values\n",
    "df = df.replace(['AP/IB was not available','Year 1 (Freshman)','Year 2 (Sophomore)','Year 3 (Junior)','Year 4 (Senior)','Year 5 or more'],\n",
    "            ['Neither Available',1,2,3,4,5])\n",
    "\n",
    "#replace values in HSGPA above 4 with 4\n",
    "df['HSGPA'] = df['HSGPA'].clip_upper(4)\n",
    "\n",
    "#remove the person with a UNIGPA of 0\n",
    "df = df.loc[df['UNIGPA']!=0]"
   ]
  },
  {
   "cell_type": "code",
   "execution_count": 7,
   "metadata": {},
   "outputs": [
    {
     "name": "stdout",
     "output_type": "stream",
     "text": [
      "TAKE = ['Yes' 'No' 'Neither Available']\n",
      "max HSGPA = 4.0\n",
      "YEAR = [3 2 4 1 5]\n"
     ]
    }
   ],
   "source": [
    "print(\"TAKE =\", df.TAKE.unique())\n",
    "print(\"max HSGPA =\", max(df.HSGPA.unique()))\n",
    "print(\"YEAR =\", df.YEAR.unique())"
   ]
  },
  {
   "cell_type": "code",
   "execution_count": 8,
   "metadata": {},
   "outputs": [
    {
     "data": {
      "text/html": [
       "<div>\n",
       "<style scoped>\n",
       "    .dataframe tbody tr th:only-of-type {\n",
       "        vertical-align: middle;\n",
       "    }\n",
       "\n",
       "    .dataframe tbody tr th {\n",
       "        vertical-align: top;\n",
       "    }\n",
       "\n",
       "    .dataframe thead th {\n",
       "        text-align: right;\n",
       "    }\n",
       "</style>\n",
       "<table border=\"1\" class=\"dataframe\">\n",
       "  <thead>\n",
       "    <tr style=\"text-align: right;\">\n",
       "      <th></th>\n",
       "      <th>TAKE</th>\n",
       "      <th>WHICH</th>\n",
       "      <th>AMOUNT</th>\n",
       "      <th>HSGPA</th>\n",
       "      <th>UNI</th>\n",
       "      <th>YEAR</th>\n",
       "      <th>UNIGPA</th>\n",
       "    </tr>\n",
       "  </thead>\n",
       "  <tbody>\n",
       "    <tr>\n",
       "      <th>0</th>\n",
       "      <td>Yes</td>\n",
       "      <td>AP</td>\n",
       "      <td>9</td>\n",
       "      <td>3.84</td>\n",
       "      <td>UCSD</td>\n",
       "      <td>3</td>\n",
       "      <td>3.53</td>\n",
       "    </tr>\n",
       "    <tr>\n",
       "      <th>1</th>\n",
       "      <td>Yes</td>\n",
       "      <td>AP</td>\n",
       "      <td>5</td>\n",
       "      <td>3.90</td>\n",
       "      <td>UCSD</td>\n",
       "      <td>3</td>\n",
       "      <td>3.87</td>\n",
       "    </tr>\n",
       "    <tr>\n",
       "      <th>2</th>\n",
       "      <td>Yes</td>\n",
       "      <td>AP</td>\n",
       "      <td>7</td>\n",
       "      <td>3.87</td>\n",
       "      <td>UCSD</td>\n",
       "      <td>3</td>\n",
       "      <td>3.48</td>\n",
       "    </tr>\n",
       "    <tr>\n",
       "      <th>3</th>\n",
       "      <td>Yes</td>\n",
       "      <td>AP</td>\n",
       "      <td>6</td>\n",
       "      <td>3.83</td>\n",
       "      <td>UC Berkeley</td>\n",
       "      <td>3</td>\n",
       "      <td>3.01</td>\n",
       "    </tr>\n",
       "    <tr>\n",
       "      <th>4</th>\n",
       "      <td>Yes</td>\n",
       "      <td>AP</td>\n",
       "      <td>5</td>\n",
       "      <td>3.50</td>\n",
       "      <td>PCC</td>\n",
       "      <td>3</td>\n",
       "      <td>3.00</td>\n",
       "    </tr>\n",
       "    <tr>\n",
       "      <th>5</th>\n",
       "      <td>Yes</td>\n",
       "      <td>AP</td>\n",
       "      <td>5</td>\n",
       "      <td>3.64</td>\n",
       "      <td>SDMC</td>\n",
       "      <td>2</td>\n",
       "      <td>3.95</td>\n",
       "    </tr>\n",
       "    <tr>\n",
       "      <th>6</th>\n",
       "      <td>Yes</td>\n",
       "      <td>AP</td>\n",
       "      <td>4</td>\n",
       "      <td>3.70</td>\n",
       "      <td>UCR</td>\n",
       "      <td>3</td>\n",
       "      <td>3.20</td>\n",
       "    </tr>\n",
       "    <tr>\n",
       "      <th>7</th>\n",
       "      <td>Yes</td>\n",
       "      <td>AP</td>\n",
       "      <td>2</td>\n",
       "      <td>2.70</td>\n",
       "      <td>UCSD</td>\n",
       "      <td>3</td>\n",
       "      <td>3.40</td>\n",
       "    </tr>\n",
       "    <tr>\n",
       "      <th>8</th>\n",
       "      <td>Yes</td>\n",
       "      <td>AP</td>\n",
       "      <td>7</td>\n",
       "      <td>4.00</td>\n",
       "      <td>UCSD</td>\n",
       "      <td>4</td>\n",
       "      <td>3.70</td>\n",
       "    </tr>\n",
       "    <tr>\n",
       "      <th>9</th>\n",
       "      <td>Yes</td>\n",
       "      <td>AP</td>\n",
       "      <td>6</td>\n",
       "      <td>3.90</td>\n",
       "      <td>UC Berkeley</td>\n",
       "      <td>4</td>\n",
       "      <td>3.60</td>\n",
       "    </tr>\n",
       "  </tbody>\n",
       "</table>\n",
       "</div>"
      ],
      "text/plain": [
       "  TAKE WHICH  AMOUNT  HSGPA          UNI  YEAR  UNIGPA\n",
       "0  Yes    AP       9   3.84         UCSD     3    3.53\n",
       "1  Yes    AP       5   3.90         UCSD     3    3.87\n",
       "2  Yes    AP       7   3.87         UCSD     3    3.48\n",
       "3  Yes    AP       6   3.83  UC Berkeley     3    3.01\n",
       "4  Yes    AP       5   3.50          PCC     3    3.00\n",
       "5  Yes    AP       5   3.64         SDMC     2    3.95\n",
       "6  Yes    AP       4   3.70          UCR     3    3.20\n",
       "7  Yes    AP       2   2.70         UCSD     3    3.40\n",
       "8  Yes    AP       7   4.00         UCSD     4    3.70\n",
       "9  Yes    AP       6   3.90  UC Berkeley     4    3.60"
      ]
     },
     "execution_count": 8,
     "metadata": {},
     "output_type": "execute_result"
    }
   ],
   "source": [
    "df.iloc[0:10]"
   ]
  },
  {
   "cell_type": "markdown",
   "metadata": {},
   "source": [
    "# Data Analysis\n",
    "\n",
    "First, we summarize the data."
   ]
  },
  {
   "cell_type": "markdown",
   "metadata": {},
   "source": [
    "In our survey, the vast majority of the participants took advanced classes. Thus, we cannot accurately compare the two."
   ]
  },
  {
   "cell_type": "code",
   "execution_count": 9,
   "metadata": {},
   "outputs": [
    {
     "data": {
      "text/plain": [
       "<matplotlib.axes._subplots.AxesSubplot at 0x1fec2086860>"
      ]
     },
     "execution_count": 9,
     "metadata": {},
     "output_type": "execute_result"
    },
    {
     "data": {
      "image/png": "[encoded data removed]",
      "text/plain": [
       "<Figure size 432x288 with 1 Axes>"
      ]
     },
     "metadata": {
      "needs_background": "light"
     },
     "output_type": "display_data"
    }
   ],
   "source": [
    "df['TAKE'].value_counts().plot(kind='barh')"
   ]
  },
  {
   "cell_type": "markdown",
   "metadata": {},
   "source": [
    "Moreover, most of those people took AP classes, with very few taking IB classes or both, so again we cannot accurately compare those who took AP against those who took IB."
   ]
  },
  {
   "cell_type": "code",
   "execution_count": 10,
   "metadata": {},
   "outputs": [
    {
     "data": {
      "text/plain": [
       "<matplotlib.axes._subplots.AxesSubplot at 0x1fec2375550>"
      ]
     },
     "execution_count": 10,
     "metadata": {},
     "output_type": "execute_result"
    },
    {
     "data": {
      "image/png": "[encoded data removed]",
      "text/plain": [
       "<Figure size 432x288 with 1 Axes>"
      ]
     },
     "metadata": {
      "needs_background": "light"
     },
     "output_type": "display_data"
    }
   ],
   "source": [
    "df['WHICH'].value_counts().plot(kind='barh')"
   ]
  },
  {
   "cell_type": "markdown",
   "metadata": {},
   "source": [
    "Now we explore the distribution of the amount of advanced classes taken per person. The data is relatively normal with a slight skew to the right, with one interpid student having taken 21 advanced classes. However, the majority of people took between four and nine advanced classes, and more people took fewer than that rather than more."
   ]
  },
  {
   "cell_type": "code",
   "execution_count": 11,
   "metadata": {},
   "outputs": [
    {
     "name": "stdout",
     "output_type": "stream",
     "text": [
      "21\n"
     ]
    }
   ],
   "source": [
    "print(max(df['AMOUNT'])-min(df['AMOUNT']))"
   ]
  },
  {
   "cell_type": "code",
   "execution_count": 12,
   "metadata": {},
   "outputs": [
    {
     "data": {
      "text/plain": [
       "array([[<matplotlib.axes._subplots.AxesSubplot object at 0x000001FEC237E5C0>]],\n",
       "      dtype=object)"
      ]
     },
     "execution_count": 12,
     "metadata": {},
     "output_type": "execute_result"
    },
    {
     "data": {
      "image/png": "[encoded data removed]",
      "text/plain": [
       "<Figure size 432x288 with 1 Axes>"
      ]
     },
     "metadata": {
      "needs_background": "light"
     },
     "output_type": "display_data"
    }
   ],
   "source": [
    "df.hist('AMOUNT',bins=21)"
   ]
  },
  {
   "cell_type": "markdown",
   "metadata": {},
   "source": [
    "Here, we first find the range of the GPA values so that we may bin the values in increments of .1. Here we find that about half of those surveyed had a GPA in the highest bin, and approximately four fifths had 3.8 or greater GPA."
   ]
  },
  {
   "cell_type": "code",
   "execution_count": 13,
   "metadata": {},
   "outputs": [
    {
     "name": "stdout",
     "output_type": "stream",
     "text": [
      "2.1\n"
     ]
    }
   ],
   "source": [
    "print(max(df['HSGPA'])-min(df['HSGPA']))"
   ]
  },
  {
   "cell_type": "code",
   "execution_count": 14,
   "metadata": {},
   "outputs": [
    {
     "data": {
      "text/plain": [
       "array([[<matplotlib.axes._subplots.AxesSubplot object at 0x000001FEC245C748>]],\n",
       "      dtype=object)"
      ]
     },
     "execution_count": 14,
     "metadata": {},
     "output_type": "execute_result"
    },
    {
     "data": {
      "image/png": "[encoded data removed]",
      "text/plain": [
       "<Figure size 432x288 with 1 Axes>"
      ]
     },
     "metadata": {
      "needs_background": "light"
     },
     "output_type": "display_data"
    }
   ],
   "source": [
    "df.hist('HSGPA',bins=21)"
   ]
  },
  {
   "cell_type": "markdown",
   "metadata": {},
   "source": [
    "Here we logged which college the participant attended. We gathered most of the data from UCSD, and hoped to compare to other colleges, but given the imbalance in the distribution, such an analysis is not possible. The acronym to full name table may be found here on Sheet 2 (along with the original survey csv): https://docs.google.com/spreadsheets/d/1hTpEO2KMcnBLy1Te-6ofRgLsV6M_60tuRAXmdoIsUVU/edit?usp=sharing "
   ]
  },
  {
   "cell_type": "code",
   "execution_count": 15,
   "metadata": {},
   "outputs": [
    {
     "data": {
      "text/plain": [
       "<matplotlib.axes._subplots.AxesSubplot at 0x1fec253f780>"
      ]
     },
     "execution_count": 15,
     "metadata": {},
     "output_type": "execute_result"
    },
    {
     "data": {
      "image/png": "[encoded data removed]",
      "text/plain": [
       "<Figure size 432x288 with 1 Axes>"
      ]
     },
     "metadata": {
      "needs_background": "light"
     },
     "output_type": "display_data"
    }
   ],
   "source": [
    "df['UNI'].value_counts().plot(kind='bar')"
   ]
  },
  {
   "cell_type": "markdown",
   "metadata": {},
   "source": [
    "We also logged which year of college the participant is currently in. This will be used to check for confounds, as it is possible that those in earlier years of college have higher gpas due to easier classes or fewer classes taken. The majority of our participants are in their second year."
   ]
  },
  {
   "cell_type": "code",
   "execution_count": 16,
   "metadata": {},
   "outputs": [
    {
     "data": {
      "text/plain": [
       "array([[<matplotlib.axes._subplots.AxesSubplot object at 0x000001FEC243AF98>]],\n",
       "      dtype=object)"
      ]
     },
     "execution_count": 16,
     "metadata": {},
     "output_type": "execute_result"
    },
    {
     "data": {
      "image/png": "[encoded data removed]",
      "text/plain": [
       "<Figure size 432x288 with 1 Axes>"
      ]
     },
     "metadata": {
      "needs_background": "light"
     },
     "output_type": "display_data"
    }
   ],
   "source": [
    "df.hist('YEAR',bins=5)"
   ]
  },
  {
   "cell_type": "markdown",
   "metadata": {},
   "source": [
    "Again, we use the range of the GPA to bin the data to increments of .1. Overall, the university GPAs are much more evenly distributed, with the bulk of the data still in the upper end but not as concentrated in the highest bin."
   ]
  },
  {
   "cell_type": "code",
   "execution_count": 17,
   "metadata": {},
   "outputs": [
    {
     "name": "stdout",
     "output_type": "stream",
     "text": [
      "2.7\n"
     ]
    }
   ],
   "source": [
    "print(max(df['UNIGPA'])-min(df['UNIGPA']))"
   ]
  },
  {
   "cell_type": "code",
   "execution_count": 18,
   "metadata": {},
   "outputs": [
    {
     "data": {
      "text/plain": [
       "array([[<matplotlib.axes._subplots.AxesSubplot object at 0x000001FEC26BA320>]],\n",
       "      dtype=object)"
      ]
     },
     "execution_count": 18,
     "metadata": {},
     "output_type": "execute_result"
    },
    {
     "data": {
      "image/png": "[encoded data removed]",
      "text/plain": [
       "<Figure size 432x288 with 1 Axes>"
      ]
     },
     "metadata": {
      "needs_background": "light"
     },
     "output_type": "display_data"
    }
   ],
   "source": [
    "df.hist('UNIGPA',bins=27)"
   ]
  },
  {
   "cell_type": "markdown",
   "metadata": {},
   "source": [
    "Now for the analysis: first, we shall simply graph the scatter plot of the amount of advanced classes taken to college GPA. Here we see an obviously positive relationship, with an increase of GPA of .04 for every advanced class taken. Even though there is an apparent pattern in the graph, though, given the r_value of .27, this relationship is fairly weak."
   ]
  },
  {
   "cell_type": "code",
   "execution_count": 19,
   "metadata": {},
   "outputs": [
    {
     "name": "stdout",
     "output_type": "stream",
     "text": [
      "slope: 0.041461889766023545\n",
      "r_value: 0.2689657810194567\n"
     ]
    },
    {
     "data": {
      "image/png": "[encoded data removed]",
      "text/plain": [
       "<Figure size 360x360 with 1 Axes>"
      ]
     },
     "metadata": {
      "needs_background": "light"
     },
     "output_type": "display_data"
    }
   ],
   "source": [
    "sns.lmplot(x='AMOUNT',y='UNIGPA',data=df,\n",
    "           line_kws={'color':'orange'})\n",
    "\n",
    "slope, intercept, r_value, p_value, std_err = stats.linregress(df[\"AMOUNT\"],df[\"UNIGPA\"])\n",
    "print(\"slope:\",slope)\n",
    "print(\"r_value:\",r_value)"
   ]
  },
  {
   "cell_type": "markdown",
   "metadata": {},
   "source": [
    "Here we arrange the data into a pivot table to find the average UNIGPA value per AMOUNT. We can see the average is generally above 3.0, with the exception at AMOUNT == 4, with no obvious upward or downward trend as AMOUNT increases."
   ]
  },
  {
   "cell_type": "code",
   "execution_count": 20,
   "metadata": {},
   "outputs": [
    {
     "data": {
      "text/html": [
       "<div>\n",
       "<style scoped>\n",
       "    .dataframe tbody tr th:only-of-type {\n",
       "        vertical-align: middle;\n",
       "    }\n",
       "\n",
       "    .dataframe tbody tr th {\n",
       "        vertical-align: top;\n",
       "    }\n",
       "\n",
       "    .dataframe thead th {\n",
       "        text-align: right;\n",
       "    }\n",
       "</style>\n",
       "<table border=\"1\" class=\"dataframe\">\n",
       "  <thead>\n",
       "    <tr style=\"text-align: right;\">\n",
       "      <th></th>\n",
       "      <th>HSGPA</th>\n",
       "    </tr>\n",
       "    <tr>\n",
       "      <th>AMOUNT</th>\n",
       "      <th></th>\n",
       "    </tr>\n",
       "  </thead>\n",
       "  <tbody>\n",
       "    <tr>\n",
       "      <th>0</th>\n",
       "      <td>3.087500</td>\n",
       "    </tr>\n",
       "    <tr>\n",
       "      <th>1</th>\n",
       "      <td>3.137500</td>\n",
       "    </tr>\n",
       "    <tr>\n",
       "      <th>2</th>\n",
       "      <td>3.458571</td>\n",
       "    </tr>\n",
       "    <tr>\n",
       "      <th>3</th>\n",
       "      <td>3.571429</td>\n",
       "    </tr>\n",
       "    <tr>\n",
       "      <th>4</th>\n",
       "      <td>3.582000</td>\n",
       "    </tr>\n",
       "    <tr>\n",
       "      <th>5</th>\n",
       "      <td>3.651250</td>\n",
       "    </tr>\n",
       "    <tr>\n",
       "      <th>6</th>\n",
       "      <td>3.754444</td>\n",
       "    </tr>\n",
       "    <tr>\n",
       "      <th>7</th>\n",
       "      <td>3.919000</td>\n",
       "    </tr>\n",
       "    <tr>\n",
       "      <th>8</th>\n",
       "      <td>3.866842</td>\n",
       "    </tr>\n",
       "    <tr>\n",
       "      <th>9</th>\n",
       "      <td>3.873636</td>\n",
       "    </tr>\n",
       "    <tr>\n",
       "      <th>10</th>\n",
       "      <td>3.781250</td>\n",
       "    </tr>\n",
       "    <tr>\n",
       "      <th>11</th>\n",
       "      <td>3.750000</td>\n",
       "    </tr>\n",
       "    <tr>\n",
       "      <th>12</th>\n",
       "      <td>3.740000</td>\n",
       "    </tr>\n",
       "    <tr>\n",
       "      <th>13</th>\n",
       "      <td>3.825000</td>\n",
       "    </tr>\n",
       "    <tr>\n",
       "      <th>14</th>\n",
       "      <td>3.807500</td>\n",
       "    </tr>\n",
       "    <tr>\n",
       "      <th>16</th>\n",
       "      <td>3.640000</td>\n",
       "    </tr>\n",
       "    <tr>\n",
       "      <th>17</th>\n",
       "      <td>4.000000</td>\n",
       "    </tr>\n",
       "    <tr>\n",
       "      <th>21</th>\n",
       "      <td>4.000000</td>\n",
       "    </tr>\n",
       "  </tbody>\n",
       "</table>\n",
       "</div>"
      ],
      "text/plain": [
       "           HSGPA\n",
       "AMOUNT          \n",
       "0       3.087500\n",
       "1       3.137500\n",
       "2       3.458571\n",
       "3       3.571429\n",
       "4       3.582000\n",
       "5       3.651250\n",
       "6       3.754444\n",
       "7       3.919000\n",
       "8       3.866842\n",
       "9       3.873636\n",
       "10      3.781250\n",
       "11      3.750000\n",
       "12      3.740000\n",
       "13      3.825000\n",
       "14      3.807500\n",
       "16      3.640000\n",
       "17      4.000000\n",
       "21      4.000000"
      ]
     },
     "execution_count": 20,
     "metadata": {},
     "output_type": "execute_result"
    }
   ],
   "source": [
    "pv_HSGPA = pd.pivot_table(df, values='HSGPA', index=['AMOUNT'])\n",
    "pv_HSGPA"
   ]
  },
  {
   "cell_type": "code",
   "execution_count": 21,
   "metadata": {},
   "outputs": [
    {
     "data": {
      "text/html": [
       "<div>\n",
       "<style scoped>\n",
       "    .dataframe tbody tr th:only-of-type {\n",
       "        vertical-align: middle;\n",
       "    }\n",
       "\n",
       "    .dataframe tbody tr th {\n",
       "        vertical-align: top;\n",
       "    }\n",
       "\n",
       "    .dataframe thead th {\n",
       "        text-align: right;\n",
       "    }\n",
       "</style>\n",
       "<table border=\"1\" class=\"dataframe\">\n",
       "  <thead>\n",
       "    <tr style=\"text-align: right;\">\n",
       "      <th></th>\n",
       "      <th>UNIGPA</th>\n",
       "    </tr>\n",
       "    <tr>\n",
       "      <th>AMOUNT</th>\n",
       "      <th></th>\n",
       "    </tr>\n",
       "  </thead>\n",
       "  <tbody>\n",
       "    <tr>\n",
       "      <th>0</th>\n",
       "      <td>3.000000</td>\n",
       "    </tr>\n",
       "    <tr>\n",
       "      <th>1</th>\n",
       "      <td>3.116250</td>\n",
       "    </tr>\n",
       "    <tr>\n",
       "      <th>2</th>\n",
       "      <td>3.060000</td>\n",
       "    </tr>\n",
       "    <tr>\n",
       "      <th>3</th>\n",
       "      <td>3.231429</td>\n",
       "    </tr>\n",
       "    <tr>\n",
       "      <th>4</th>\n",
       "      <td>2.765900</td>\n",
       "    </tr>\n",
       "    <tr>\n",
       "      <th>5</th>\n",
       "      <td>3.419375</td>\n",
       "    </tr>\n",
       "    <tr>\n",
       "      <th>6</th>\n",
       "      <td>3.377222</td>\n",
       "    </tr>\n",
       "    <tr>\n",
       "      <th>7</th>\n",
       "      <td>3.327300</td>\n",
       "    </tr>\n",
       "    <tr>\n",
       "      <th>8</th>\n",
       "      <td>3.423474</td>\n",
       "    </tr>\n",
       "    <tr>\n",
       "      <th>9</th>\n",
       "      <td>3.568636</td>\n",
       "    </tr>\n",
       "    <tr>\n",
       "      <th>10</th>\n",
       "      <td>3.320000</td>\n",
       "    </tr>\n",
       "    <tr>\n",
       "      <th>11</th>\n",
       "      <td>3.660000</td>\n",
       "    </tr>\n",
       "    <tr>\n",
       "      <th>12</th>\n",
       "      <td>3.318000</td>\n",
       "    </tr>\n",
       "    <tr>\n",
       "      <th>13</th>\n",
       "      <td>3.805000</td>\n",
       "    </tr>\n",
       "    <tr>\n",
       "      <th>14</th>\n",
       "      <td>3.695000</td>\n",
       "    </tr>\n",
       "    <tr>\n",
       "      <th>16</th>\n",
       "      <td>3.820000</td>\n",
       "    </tr>\n",
       "    <tr>\n",
       "      <th>17</th>\n",
       "      <td>3.570000</td>\n",
       "    </tr>\n",
       "    <tr>\n",
       "      <th>21</th>\n",
       "      <td>3.300000</td>\n",
       "    </tr>\n",
       "  </tbody>\n",
       "</table>\n",
       "</div>"
      ],
      "text/plain": [
       "          UNIGPA\n",
       "AMOUNT          \n",
       "0       3.000000\n",
       "1       3.116250\n",
       "2       3.060000\n",
       "3       3.231429\n",
       "4       2.765900\n",
       "5       3.419375\n",
       "6       3.377222\n",
       "7       3.327300\n",
       "8       3.423474\n",
       "9       3.568636\n",
       "10      3.320000\n",
       "11      3.660000\n",
       "12      3.318000\n",
       "13      3.805000\n",
       "14      3.695000\n",
       "16      3.820000\n",
       "17      3.570000\n",
       "21      3.300000"
      ]
     },
     "execution_count": 21,
     "metadata": {},
     "output_type": "execute_result"
    }
   ],
   "source": [
    "pv_UNIGPA = pd.pivot_table(df, values='UNIGPA', index=['AMOUNT'])\n",
    "pv_UNIGPA"
   ]
  },
  {
   "cell_type": "markdown",
   "metadata": {},
   "source": [
    "Then we use a linear model to check whether the amount of classes taken predicts university GPA, and in this case we check the p-value to see if this prediction is statistically significant. Our alpha value of significance is set to .05."
   ]
  },
  {
   "cell_type": "code",
   "execution_count": 22,
   "metadata": {},
   "outputs": [
    {
     "name": "stdout",
     "output_type": "stream",
     "text": [
      "p value: 0.0014232861530786315\n",
      "Does the amount of advanced classes taken predict the university GPA?\n",
      "True\n"
     ]
    }
   ],
   "source": [
    "#Linear Model for UNIGPA\n",
    "outcome_1, predictors_1 = patsy.dmatrices('UNIGPA ~ AMOUNT', df)\n",
    "mod_1 = sm.OLS(outcome_1, predictors_1)\n",
    "type(mod_1)\n",
    "res_1 = mod_1.fit()\n",
    "\n",
    "#Does AMOUNT predict UNIGPA?\n",
    "print(\"p value:\",res_1.pvalues[1])\n",
    "print(\"Does the amount of advanced classes taken predict the university GPA?\")\n",
    "print(res_1.pvalues[1] <= 0.05)"
   ]
  },
  {
   "cell_type": "markdown",
   "metadata": {},
   "source": [
    "However, using this more advanced predictor, we can also check confounds. Below we check whether the amount of advanced classes taken still predict the student's university GPA given their current year in university, and then check the same given their high school GPA."
   ]
  },
  {
   "cell_type": "code",
   "execution_count": 23,
   "metadata": {},
   "outputs": [
    {
     "name": "stdout",
     "output_type": "stream",
     "text": [
      "p value: 0.0011867718631247935\n",
      "Given year of college, does the amount of advanced classes taken predict the university GPA?\n",
      "True\n"
     ]
    }
   ],
   "source": [
    "#Linear Model for UNIGPA to AMOUNT + YEAR\n",
    "outcome_2, predictors_2 = patsy.dmatrices('UNIGPA ~ AMOUNT + YEAR', df)\n",
    "mod_2 = sm.OLS(outcome_2, predictors_2)\n",
    "type(mod_2)\n",
    "res_2 = mod_2.fit()\n",
    "\n",
    "#Does AMOUNT still predict UNIGPA given YEAR?\n",
    "print(\"p value:\",res_2.pvalues[1])\n",
    "print(\"Given year of college, does the amount of advanced classes taken predict the university GPA?\")\n",
    "print(res_2.pvalues[1] <= 0.05)"
   ]
  },
  {
   "cell_type": "code",
   "execution_count": 24,
   "metadata": {},
   "outputs": [
    {
     "name": "stdout",
     "output_type": "stream",
     "text": [
      "p value: 0.07172807802302794\n",
      "Given high school GPA, does the amount of advanced classes taken predict the university GPA?\n",
      "False\n"
     ]
    }
   ],
   "source": [
    "#Linear Model for UNIGPA to AMOUNT + HSGPA\n",
    "outcome_3, predictors_3 = patsy.dmatrices('UNIGPA ~ AMOUNT + HSGPA', df)\n",
    "mod_3 = sm.OLS(outcome_3, predictors_3)\n",
    "type(mod_3)\n",
    "res_3 = mod_3.fit()\n",
    "\n",
    "#Does AMOUNT still predict UNIGPA given HSGPA?\n",
    "print(\"p value:\",res_3.pvalues[1])\n",
    "print(\"Given high school GPA, does the amount of advanced classes taken predict the university GPA?\")\n",
    "print(res_3.pvalues[1] <= 0.05)"
   ]
  },
  {
   "cell_type": "markdown",
   "metadata": {},
   "source": [
    "Apparently, given the high school GPA, the amount of advanced classes taken no longer becomes a statistically sound predictor. This is more apparent when we graph HSGPA with UNIGPA and check the r-value of that relationship, which is a slightly stronger value of ~.3. The overall relationship between HSGPA and UNIGPA is weak, but it is still a better predictor than AMOUNT."
   ]
  },
  {
   "cell_type": "code",
   "execution_count": 25,
   "metadata": {},
   "outputs": [
    {
     "name": "stdout",
     "output_type": "stream",
     "text": [
      "slope: 0.4475210797133376\n",
      "r_value: 0.29825418601401027\n"
     ]
    },
    {
     "data": {
      "image/png": "[encoded data removed]",
      "text/plain": [
       "<Figure size 360x360 with 1 Axes>"
      ]
     },
     "metadata": {
      "needs_background": "light"
     },
     "output_type": "display_data"
    }
   ],
   "source": [
    "sns.lmplot(x='HSGPA',y='UNIGPA',data=df,\n",
    "           line_kws={'color':'orange'})\n",
    "\n",
    "slope, intercept, r_value, p_value, std_err = stats.linregress(df[\"HSGPA\"],df[\"UNIGPA\"])\n",
    "print(\"slope:\",slope)\n",
    "print(\"r_value:\",r_value)"
   ]
  },
  {
   "cell_type": "markdown",
   "metadata": {},
   "source": [
    "# Conclusion"
   ]
  },
  {
   "cell_type": "markdown",
   "metadata": {},
   "source": [
    "It should be noted that our analysis does not include factors such as how educationally rigorous the institutions the student attends are. After all, it is logically more difficult to achieve a higher GPA at an university like Harvard than your typical city college, and high schools can also vary. Our data mainly pertains to a small dataset, of which mostly contains UCSD students. These results are likely biased and very limited, but nonetheless ... \n",
    "\n",
    "In conclusion, our hypothesis was correct. The amount of advanced classes a student has taken does predict their college GPA. The relationship is relatively weak, but it is there. However, other factors are better predictors of college GPA than the amount of advanced classes taken, namely, as we discovered, the student's high school GPA."
   ]
  },
  {
   "cell_type": "markdown",
   "metadata": {},
   "source": [
    "# Programming Experience\n",
    "\n",
    "Derek is proficient in programming, having taken CSE11, DSC10, and COGS108 prior to this class. As he has completed a very similar project before, he has learned how to lead others with his greater experience with coding.\n",
    "\n",
    "Tyson did not have any Python experience until the start of this quarter where he learned Python in DSC10 with the Data Science package. He learned how to read tables and create scatter plots with the Pandas package by looking at the documentation.\n",
    "\n",
    "Kaitlyn had no prior experience in Python. By completing the extra credit, she learned that even self-collected data has to be cleaned out in a way that would be computer readable and maximize efficiency of finding results from the data. Data wrangling is a very important part of any data experiment and should take up a large amount of a data scientist’s time, because the attention to detail put into data wrangling will largely affect the results of the experiment. \n",
    "\n",
    "Michael has had minimal programming experience in Python prior to this project as most of his programming experience was in Java throughout high school. After completing the extra credit, he learned how to generate histograms using the Pandas module.\n"
   ]
  }
 ],
 "metadata": {
  "kernelspec": {
   "display_name": "Python 3",
   "language": "python",
   "name": "python3"
  },
  "language_info": {
   "codemirror_mode": {
    "name": "ipython",
    "version": 3
   },
   "file_extension": ".py",
   "mimetype": "text/x-python",
   "name": "python",
   "nbconvert_exporter": "python",
   "pygments_lexer": "ipython3",
   "version": "3.7.3"
  }
 },
 "nbformat": 4,
 "nbformat_minor": 2
}
